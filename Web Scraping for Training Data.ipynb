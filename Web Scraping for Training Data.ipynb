{
 "cells": [
  {
   "cell_type": "markdown",
   "id": "f4fe7a6f",
   "metadata": {},
   "source": [
    "# Trying out a web classifier\n",
    "- Using the **20news groups** dataset\n",
    "- Can also build a training data based on keyword search and then train a model on it. \n",
    "- CLASSES - \n",
    "    1. DATA STRUCTURES AND ALGOS\n",
    "    2. SOCIAL SCIENCE\n",
    "    3. AI AND ML\n",
    "    4. WEB DEV\n",
    "    5. MANAGEMENT\n",
    "    6. MARKETING\n",
    "    \n",
    "   "
   ]
  },
  {
   "cell_type": "code",
   "execution_count": 9,
   "id": "dc277f86",
   "metadata": {
    "ExecuteTime": {
     "end_time": "2022-09-16T09:09:35.536200Z",
     "start_time": "2022-09-16T09:09:35.527761Z"
    }
   },
   "outputs": [],
   "source": [
    "import pandas as pd\n",
    "import time\n",
    "import csv \n",
    "import gzip\n",
    "import bs4\n",
    "import requests\n",
    "import numpy as np\n",
    "import matplotlib.pyplot as plt\n",
    "from googlesearch import search\n",
    "import concurrent.futures"
   ]
  },
  {
   "cell_type": "markdown",
   "id": "647de271",
   "metadata": {},
   "source": [
    "## KEYWORD LISTS BASED\n",
    "- We will try to make a keyword set for each of these categories.\n",
    "- Now, we will get a lot of pages from WARC and analyse their text. \n",
    "\n",
    "- For a page P \n",
    "    - We will make a hit count table for each of the keywords which we have matched.\n",
    "    - After this, there will be a voting phase. \n",
    "    - For each of the classes, we will club their keyword dicts and see whether the page would belong to this particular category or not. \n",
    "    - We take the HM of the freq distribution and whichever has the highest, will be set as the class label. \n",
    "    \n",
    "    \n",
    "- Now, this will generate the labelled dataset for our classifier. Although it may be biased towards the keywords but the point is that the pages containing these keywords would contain other words also, related to the class label.\n",
    "\n",
    "- This would further populate the dictionary. \n",
    "\n",
    "> source : https://www.wordstream.com/popular-keywords/business-management-keywords\n",
    "   "
   ]
  },
  {
   "cell_type": "markdown",
   "id": "ba625d4b",
   "metadata": {
    "ExecuteTime": {
     "end_time": "2022-09-13T12:46:47.896008Z",
     "start_time": "2022-09-13T12:46:44.943906Z"
    }
   },
   "source": [
    "### Getting the URLs and their text via Google\n",
    "\n",
    "> docs : https://developers.google.com/custom-search/v1/reference/rest/v1/cse/list\n",
    "\n",
    "> docs : https://www.geeksforgeeks.org/performing-google-search-using-python-code/\n",
    "\n",
    "-  We can use the custom search engine to get the query results from google \n",
    "- We can enter the keywords which MUST be present in the web pages and then we let google rank the pages and give them to us\n",
    "- We extract ~ 400 pages for each domain which we are trying to solve for \n",
    "- Then train a machine learning model over the extracted text from these pages and the class labels.\n",
    "- After this, any url would be given to us and we would go to its page, get the text, transform it and classify the page as 1 of the class labels"
   ]
  },
  {
   "cell_type": "code",
   "execution_count": 96,
   "id": "7f67eefa",
   "metadata": {
    "ExecuteTime": {
     "end_time": "2022-09-16T15:52:25.522593Z",
     "start_time": "2022-09-16T15:52:25.514947Z"
    }
   },
   "outputs": [],
   "source": [
    "key_words = {\n",
    "    \"ml\" : [\"Machine Learning \",\"machinelearning regression classfication recommender AI trainingdata intelligence data\"],\n",
    "    \"dsa\" : [\"Data Structures and Algorithms\",\"algorithms binarytree hashing string datastructure graphs memory programming timecomplexity\"],\n",
    "    \"social-science\" : [\"Social Science\", \"Sociology Geography Psychology CognitiveScience Economics History Social Welfare Inequality\"],\n",
    "    \"web-dev\" : [\"Web Development\", \"graphicdesign reactjs websitedesign websitebuilder webdeveloper designer webdesign ecommercecompany creator responsive\"],\n",
    "   \"management\" : [\"Management\", \"business management mba administration manager strategy degree process international\" ]\n",
    "}\n",
    "\n"
   ]
  },
  {
   "cell_type": "code",
   "execution_count": 86,
   "id": "8de156f8",
   "metadata": {
    "ExecuteTime": {
     "end_time": "2022-09-16T14:17:25.547092Z",
     "start_time": "2022-09-16T14:17:25.540442Z"
    }
   },
   "outputs": [],
   "source": [
    "# set \n",
    "done = {\"ml\"}"
   ]
  },
  {
   "cell_type": "code",
   "execution_count": 87,
   "id": "8e14cb27",
   "metadata": {
    "ExecuteTime": {
     "end_time": "2022-09-16T14:19:46.296462Z",
     "start_time": "2022-09-16T14:17:34.456074Z"
    }
   },
   "outputs": [
    {
     "name": "stdout",
     "output_type": "stream",
     "text": [
      "Enter key :dsa\n",
      "Searching for  dsa  with ['Data Structures and Algorithms', 'algorithms binarytree string datastructure graph memory programming timecomplexity']\n",
      "Query is algorithms\n",
      "Completed...\n",
      "Query is binarytree\n",
      "Completed...\n",
      "Query is string\n",
      "Completed...\n",
      "Query is datastructure\n",
      "Completed...\n",
      "Query is graph\n",
      "Completed...\n",
      "Query is memory\n",
      "Completed...\n",
      "Query is programming\n",
      "Completed...\n",
      "Query is timecomplexity\n",
      "Completed...\n",
      "Completed extraction for Data Structures and Algorithms\n"
     ]
    }
   ],
   "source": [
    "key = input(\"Enter key :\")\n",
    "\n",
    "if key not in key_words:\n",
    "    print(\"Invalid\")\n",
    "else:\n",
    "    if key in done:\n",
    "        print(\"Already done\")\n",
    "    else:\n",
    "        key_word = key_words[key]\n",
    "\n",
    "        print(\"Searching for \",key, \" with\",key_word)\n",
    "        \n",
    "        # file info \n",
    "        file_path = \"data/distinct-tables/\" + key + \".csv\"\n",
    "        file = open(file_path, 'a', encoding = 'utf-8', newline = '')\n",
    "        for query in key_word[1].split():\n",
    "            print(f\"Query is {query}\")\n",
    "\n",
    "            # search for this query \n",
    "            for res in search(query, num = 30, tld = 'com', stop = 30, pause = 15):\n",
    "                file.write(res+'\\n')\n",
    "            print(\"Completed...\")\n",
    "\n",
    "        print(\"Completed extraction for\", key_word[0])\n",
    "        done.add(key)\n",
    "        \n",
    "    "
   ]
  },
  {
   "cell_type": "markdown",
   "id": "0acb1188",
   "metadata": {
    "heading_collapsed": true
   },
   "source": [
    "### Utils"
   ]
  },
  {
   "cell_type": "code",
   "execution_count": 88,
   "id": "08bddf65",
   "metadata": {
    "ExecuteTime": {
     "end_time": "2022-09-16T14:19:58.455969Z",
     "start_time": "2022-09-16T14:19:58.446229Z"
    },
    "hidden": true
   },
   "outputs": [],
   "source": [
    "def get_html(url):\n",
    "    r = requests.get(url)\n",
    "    return r.content\n",
    "\n",
    "def get_text(url):\n",
    "    html_content = get_html(url)\n",
    "    soup = bs4.BeautifulSoup(html_content)\n",
    "\n",
    "    # strip all script and style elements\n",
    "    for script in soup([\"script\", \"style\"]):\n",
    "        script.decompose()\n",
    "\n",
    "    return soup.get_text(\" \", strip=True)"
   ]
  },
  {
   "cell_type": "code",
   "execution_count": 89,
   "id": "ed1f420c",
   "metadata": {
    "ExecuteTime": {
     "end_time": "2022-09-16T14:19:59.276595Z",
     "start_time": "2022-09-16T14:19:59.267351Z"
    },
    "hidden": true
   },
   "outputs": [],
   "source": [
    "def get_text_p(url, class_label, i, df_dict):\n",
    "    html_content = get_html(url)\n",
    "    soup = bs4.BeautifulSoup(html_content)\n",
    "\n",
    "    # strip all script and style elements\n",
    "    for script in soup([\"script\", \"style\"]):\n",
    "        script.decompose()\n",
    "\n",
    "    url_text = soup.get_text(\" \", strip=True)\n",
    "    df_dict[i] = [url, url_text, class_label]\n",
    "    \n",
    "    return "
   ]
  },
  {
   "cell_type": "markdown",
   "id": "e07ac5af",
   "metadata": {},
   "source": [
    "## Extract Texts"
   ]
  },
  {
   "cell_type": "code",
   "execution_count": 90,
   "id": "5a6d7d42",
   "metadata": {
    "ExecuteTime": {
     "end_time": "2022-09-16T14:20:06.249714Z",
     "start_time": "2022-09-16T14:20:06.246320Z"
    }
   },
   "outputs": [],
   "source": [
    "text_done = {\"web-dev\",\"management\"}"
   ]
  },
  {
   "cell_type": "markdown",
   "id": "4043bb41",
   "metadata": {
    "heading_collapsed": true
   },
   "source": [
    "### Parallel"
   ]
  },
  {
   "cell_type": "code",
   "execution_count": 91,
   "id": "1c27ca4e",
   "metadata": {
    "ExecuteTime": {
     "end_time": "2022-09-16T14:29:03.859493Z",
     "start_time": "2022-09-16T14:20:24.444386Z"
    },
    "hidden": true
   },
   "outputs": [
    {
     "name": "stdout",
     "output_type": "stream",
     "text": [
      "Enter key :dsa\n",
      "Extracting for class_label :  Data Structures and Algorithms\n",
      "Submitting threads...\n",
      "All threads completed!\n",
      "Completed 0 to 25...\n",
      "Submitting threads...\n",
      "All threads completed!\n",
      "Completed 25 to 50...\n",
      "Submitting threads...\n"
     ]
    },
    {
     "name": "stderr",
     "output_type": "stream",
     "text": [
      "Some characters could not be decoded, and were replaced with REPLACEMENT CHARACTER.\n"
     ]
    },
    {
     "name": "stdout",
     "output_type": "stream",
     "text": [
      "All threads completed!\n",
      "Completed 50 to 75...\n",
      "Submitting threads...\n",
      "All threads completed!\n",
      "Completed 75 to 100...\n",
      "Submitting threads...\n",
      "All threads completed!\n",
      "Completed 100 to 125...\n",
      "Submitting threads...\n",
      "All threads completed!\n",
      "Completed 125 to 150...\n",
      "Submitting threads...\n",
      "All threads completed!\n",
      "Completed 150 to 175...\n",
      "Submitting threads...\n"
     ]
    },
    {
     "name": "stderr",
     "output_type": "stream",
     "text": [
      "Some characters could not be decoded, and were replaced with REPLACEMENT CHARACTER.\n"
     ]
    },
    {
     "name": "stdout",
     "output_type": "stream",
     "text": [
      "All threads completed!\n",
      "Completed 175 to 200...\n",
      "Submitting threads...\n",
      "All threads completed!\n",
      "Completed 200 to 225...\n",
      "Submitting threads...\n",
      "All threads completed!\n",
      "Completed 225 to 250...\n",
      "Submitting threads...\n",
      "All threads completed!\n",
      "Completed 250 to 275...\n",
      "Submitting threads...\n",
      "All threads completed!\n",
      "Completed 275 to 300...\n",
      "Submitting threads...\n",
      "All threads completed!\n",
      "Completed 300 to 325...\n",
      "Submitting threads...\n"
     ]
    },
    {
     "name": "stderr",
     "output_type": "stream",
     "text": [
      "Some characters could not be decoded, and were replaced with REPLACEMENT CHARACTER.\n"
     ]
    },
    {
     "name": "stdout",
     "output_type": "stream",
     "text": [
      "All threads completed!\n",
      "Completed 325 to 350...\n",
      "Submitting threads...\n",
      "All threads completed!\n",
      "Completed 350 to 375...\n",
      "Submitting threads...\n"
     ]
    },
    {
     "name": "stderr",
     "output_type": "stream",
     "text": [
      "Some characters could not be decoded, and were replaced with REPLACEMENT CHARACTER.\n"
     ]
    },
    {
     "name": "stdout",
     "output_type": "stream",
     "text": [
      "All threads completed!\n",
      "Completed 375 to 400...\n",
      "Submitting threads...\n",
      "All threads completed!\n",
      "Completed 400 to 425...\n",
      "Submitting threads...\n",
      "All threads completed!\n",
      "Completed 425 to 450...\n",
      "                                                  url  \\\n",
      "17  https://practice.geeksforgeeks.org/courses/dsa...   \n",
      "12  https://www.amazon.com/Data-Structures-Algorit...   \n",
      "8   https://www.amazon.com/Algorithms-Structures-P...   \n",
      "\n",
      "                                                 text  \\\n",
      "17  Courses | Data Structures and Algorithms - Sel...   \n",
      "12                       Sorry! Something went wrong!   \n",
      "8                        Sorry! Something went wrong!   \n",
      "\n",
      "                             class  \n",
      "17  Data Structures and Algorithms  \n",
      "12  Data Structures and Algorithms  \n",
      "8   Data Structures and Algorithms  \n",
      "Completed text extraction!\n"
     ]
    }
   ],
   "source": [
    "df_dict = {}\n",
    "i = 0\n",
    "NUM_THREADS = 25\n",
    "\n",
    "key = input(\"Enter key :\")\n",
    "\n",
    "if key not in key_words:\n",
    "    print(\"Invalid\")\n",
    "else:\n",
    "    if key in text_done:\n",
    "        print(\"Already done\")\n",
    "    else:\n",
    "        key_word = key_words[key]\n",
    "        file_path = \"data/distinct-tables/\" + key + \".csv\"\n",
    "        data = pd.read_csv(file_path)\n",
    "        class_label = key_word[0]\n",
    "\n",
    "        print(\"Extracting for class_label : \",class_label)\n",
    "        # for each row in the data\n",
    "        \n",
    "        completed = False \n",
    "        start = 0\n",
    "        increment = NUM_THREADS \n",
    "        \n",
    "        while start < len(data):\n",
    "            \n",
    "            print(\"Submitting threads...\")\n",
    "            with concurrent.futures.ThreadPoolExecutor(max_workers = NUM_THREADS) as executor:\n",
    "                # get the urls \n",
    "                url_range = data[\"Url\"][start : start + increment]\n",
    "                for url in url_range:\n",
    "                    executor.submit(get_text_p, url, class_label, i, df_dict)\n",
    "                    # delete very large elements \n",
    "                    i+=1\n",
    "            \n",
    "#             for uid in range(start, start+increment):\n",
    "#                 if len(df_dict[uid]) > 1e7:\n",
    "#                     del df_dict[uid] \n",
    "            \n",
    "            print(\"All threads completed!\")\n",
    "            print(f\"Completed {start} to {start + increment}...\")\n",
    "            start += increment \n",
    "    \n",
    "\n",
    "        final_dataframe = pd.DataFrame.from_dict(df_dict, orient = 'index')\n",
    "        final_dataframe.columns = [\"url\", \"text\", \"class\"]\n",
    "        print(final_dataframe.head(n = 3))\n",
    "        \n",
    "        # save the file to disk \n",
    "        final_dataframe.to_csv(\"data/text-data/\"+key+\".csv\")\n",
    "        \n",
    "\n",
    "        # done for key \n",
    "        text_done.add(key)\n",
    "        print(\"Completed text extraction!\")"
   ]
  },
  {
   "cell_type": "markdown",
   "id": "5cc0bb47",
   "metadata": {
    "heading_collapsed": true
   },
   "source": [
    "### sequential"
   ]
  },
  {
   "cell_type": "code",
   "execution_count": null,
   "id": "2c78d0b9",
   "metadata": {
    "ExecuteTime": {
     "start_time": "2022-09-16T08:58:52.687Z"
    },
    "hidden": true
   },
   "outputs": [],
   "source": [
    "df_dict = {}\n",
    "\n",
    "key = input(\"Enter key :\")\n",
    "\n",
    "if key not in key_words:\n",
    "    print(\"Invalid\")\n",
    "else:\n",
    "    if key in text_done:\n",
    "        print(\"Already done\")\n",
    "    else:\n",
    "        key_word = key_words[key]\n",
    "        i = 0\n",
    "        \n",
    "        # pick url file \n",
    "        file_path = \"data/distinct-tables/\" + key + \".csv\"\n",
    "        data = pd.read_csv(file_path)\n",
    "        class_label = key_word[0]\n",
    "        \n",
    "        # for each row in the data\n",
    "        all_urls = data[\"Url\"]\n",
    "        for uid,url in enumerate(all_urls):\n",
    "            try:\n",
    "                url_text = get_text(url)\n",
    "                if len(url_text) > 1e7:\n",
    "                    continue\n",
    "                df_dict[i] = [url, url_text, class_label]\n",
    "                i+=1\n",
    "\n",
    "                if i % 10 == 0:\n",
    "                    print(f\"Completed {i} requests...\")\n",
    "            except:\n",
    "                continue \n",
    "\n",
    "        # simple sequential building of df \n",
    "        final_dataframe = pd.DataFrame.from_dict(df_dict, orient = 'index')\n",
    "        final_dataframe.columns = [\"url\", \"text\", \"class\"]\n",
    "        print(final_dataframe.head())\n",
    "\n",
    "        # save it \n",
    "        final_dataframe.to_csv(\"data/text-data/\"+key+\".csv\")\n",
    "    "
   ]
  },
  {
   "cell_type": "markdown",
   "id": "129f9bb8",
   "metadata": {},
   "source": [
    "### Combine all the dataframes into 1 "
   ]
  },
  {
   "cell_type": "code",
   "execution_count": 99,
   "id": "8c0bc258",
   "metadata": {
    "ExecuteTime": {
     "end_time": "2022-09-16T15:53:32.388771Z",
     "start_time": "2022-09-16T15:53:31.375196Z"
    }
   },
   "outputs": [
    {
     "name": "stdout",
     "output_type": "stream",
     "text": [
      "Dataframe : ml\n"
     ]
    },
    {
     "data": {
      "text/html": [
       "<div>\n",
       "<style scoped>\n",
       "    .dataframe tbody tr th:only-of-type {\n",
       "        vertical-align: middle;\n",
       "    }\n",
       "\n",
       "    .dataframe tbody tr th {\n",
       "        vertical-align: top;\n",
       "    }\n",
       "\n",
       "    .dataframe thead th {\n",
       "        text-align: right;\n",
       "    }\n",
       "</style>\n",
       "<table border=\"1\" class=\"dataframe\">\n",
       "  <thead>\n",
       "    <tr style=\"text-align: right;\">\n",
       "      <th></th>\n",
       "      <th>url</th>\n",
       "      <th>text</th>\n",
       "      <th>class</th>\n",
       "    </tr>\n",
       "  </thead>\n",
       "  <tbody>\n",
       "    <tr>\n",
       "      <th>0</th>\n",
       "      <td>https://www.geeksforgeeks.org/machine-learning/</td>\n",
       "      <td>Machine Learning - GeeksforGeeks Skip to conte...</td>\n",
       "      <td>Machine Learning</td>\n",
       "    </tr>\n",
       "    <tr>\n",
       "      <th>1</th>\n",
       "      <td>https://machinelearningmastery.com/start-here/</td>\n",
       "      <td>Just a moment... machinelearningmastery.com Ch...</td>\n",
       "      <td>Machine Learning</td>\n",
       "    </tr>\n",
       "    <tr>\n",
       "      <th>2</th>\n",
       "      <td>https://www.techtarget.com/searchenterpriseai/...</td>\n",
       "      <td>What Is Machine Learning and Why Is It Importa...</td>\n",
       "      <td>Machine Learning</td>\n",
       "    </tr>\n",
       "    <tr>\n",
       "      <th>3</th>\n",
       "      <td>https://azure.microsoft.com/en-us/services/mac...</td>\n",
       "      <td>Azure Machine Learning - ML as a Service | Mic...</td>\n",
       "      <td>Machine Learning</td>\n",
       "    </tr>\n",
       "    <tr>\n",
       "      <th>4</th>\n",
       "      <td>https://ai.google/education/</td>\n",
       "      <td>Education – Google AI AI AI About Responsibili...</td>\n",
       "      <td>Machine Learning</td>\n",
       "    </tr>\n",
       "  </tbody>\n",
       "</table>\n",
       "</div>"
      ],
      "text/plain": [
       "                                                 url  \\\n",
       "0    https://www.geeksforgeeks.org/machine-learning/   \n",
       "1     https://machinelearningmastery.com/start-here/   \n",
       "2  https://www.techtarget.com/searchenterpriseai/...   \n",
       "3  https://azure.microsoft.com/en-us/services/mac...   \n",
       "4                       https://ai.google/education/   \n",
       "\n",
       "                                                text              class  \n",
       "0  Machine Learning - GeeksforGeeks Skip to conte...  Machine Learning   \n",
       "1  Just a moment... machinelearningmastery.com Ch...  Machine Learning   \n",
       "2  What Is Machine Learning and Why Is It Importa...  Machine Learning   \n",
       "3  Azure Machine Learning - ML as a Service | Mic...  Machine Learning   \n",
       "4  Education – Google AI AI AI About Responsibili...  Machine Learning   "
      ]
     },
     "metadata": {},
     "output_type": "display_data"
    },
    {
     "name": "stdout",
     "output_type": "stream",
     "text": [
      "Dataframe : dsa\n"
     ]
    },
    {
     "data": {
      "text/html": [
       "<div>\n",
       "<style scoped>\n",
       "    .dataframe tbody tr th:only-of-type {\n",
       "        vertical-align: middle;\n",
       "    }\n",
       "\n",
       "    .dataframe tbody tr th {\n",
       "        vertical-align: top;\n",
       "    }\n",
       "\n",
       "    .dataframe thead th {\n",
       "        text-align: right;\n",
       "    }\n",
       "</style>\n",
       "<table border=\"1\" class=\"dataframe\">\n",
       "  <thead>\n",
       "    <tr style=\"text-align: right;\">\n",
       "      <th></th>\n",
       "      <th>url</th>\n",
       "      <th>text</th>\n",
       "      <th>class</th>\n",
       "    </tr>\n",
       "  </thead>\n",
       "  <tbody>\n",
       "    <tr>\n",
       "      <th>0</th>\n",
       "      <td>https://practice.geeksforgeeks.org/courses/dsa...</td>\n",
       "      <td>Courses | Data Structures and Algorithms - Sel...</td>\n",
       "      <td>Data Structures and Algorithms</td>\n",
       "    </tr>\n",
       "    <tr>\n",
       "      <th>1</th>\n",
       "      <td>https://www.amazon.com/Data-Structures-Algorit...</td>\n",
       "      <td>Sorry! Something went wrong!</td>\n",
       "      <td>Data Structures and Algorithms</td>\n",
       "    </tr>\n",
       "    <tr>\n",
       "      <th>2</th>\n",
       "      <td>https://www.amazon.com/Algorithms-Structures-P...</td>\n",
       "      <td>Sorry! Something went wrong!</td>\n",
       "      <td>Data Structures and Algorithms</td>\n",
       "    </tr>\n",
       "    <tr>\n",
       "      <th>3</th>\n",
       "      <td>https://www.geeksforgeeks.org/data-structures/</td>\n",
       "      <td>Data Structures - GeeksforGeeks Skip to conten...</td>\n",
       "      <td>Data Structures and Algorithms</td>\n",
       "    </tr>\n",
       "    <tr>\n",
       "      <th>4</th>\n",
       "      <td>https://blog.pragmaticengineer.com/data-struct...</td>\n",
       "      <td>Data Structures &amp; Algorithms I Used Working at...</td>\n",
       "      <td>Data Structures and Algorithms</td>\n",
       "    </tr>\n",
       "  </tbody>\n",
       "</table>\n",
       "</div>"
      ],
      "text/plain": [
       "                                                 url  \\\n",
       "0  https://practice.geeksforgeeks.org/courses/dsa...   \n",
       "1  https://www.amazon.com/Data-Structures-Algorit...   \n",
       "2  https://www.amazon.com/Algorithms-Structures-P...   \n",
       "3     https://www.geeksforgeeks.org/data-structures/   \n",
       "4  https://blog.pragmaticengineer.com/data-struct...   \n",
       "\n",
       "                                                text  \\\n",
       "0  Courses | Data Structures and Algorithms - Sel...   \n",
       "1                       Sorry! Something went wrong!   \n",
       "2                       Sorry! Something went wrong!   \n",
       "3  Data Structures - GeeksforGeeks Skip to conten...   \n",
       "4  Data Structures & Algorithms I Used Working at...   \n",
       "\n",
       "                            class  \n",
       "0  Data Structures and Algorithms  \n",
       "1  Data Structures and Algorithms  \n",
       "2  Data Structures and Algorithms  \n",
       "3  Data Structures and Algorithms  \n",
       "4  Data Structures and Algorithms  "
      ]
     },
     "metadata": {},
     "output_type": "display_data"
    },
    {
     "name": "stdout",
     "output_type": "stream",
     "text": [
      "Dataframe : social-science\n"
     ]
    },
    {
     "data": {
      "text/html": [
       "<div>\n",
       "<style scoped>\n",
       "    .dataframe tbody tr th:only-of-type {\n",
       "        vertical-align: middle;\n",
       "    }\n",
       "\n",
       "    .dataframe tbody tr th {\n",
       "        vertical-align: top;\n",
       "    }\n",
       "\n",
       "    .dataframe thead th {\n",
       "        text-align: right;\n",
       "    }\n",
       "</style>\n",
       "<table border=\"1\" class=\"dataframe\">\n",
       "  <thead>\n",
       "    <tr style=\"text-align: right;\">\n",
       "      <th></th>\n",
       "      <th>url</th>\n",
       "      <th>text</th>\n",
       "      <th>class</th>\n",
       "    </tr>\n",
       "  </thead>\n",
       "  <tbody>\n",
       "    <tr>\n",
       "      <th>0</th>\n",
       "      <td>https://www.wada-ama.org/en/data-research/soci...</td>\n",
       "      <td>Social Science Research | World Anti-Doping Ag...</td>\n",
       "      <td>Social Science</td>\n",
       "    </tr>\n",
       "    <tr>\n",
       "      <th>1</th>\n",
       "      <td>https://journals.sagepub.com/home/ssc</td>\n",
       "      <td>Just a moment... journals.sagepub.com Checking...</td>\n",
       "      <td>Social Science</td>\n",
       "    </tr>\n",
       "    <tr>\n",
       "      <th>2</th>\n",
       "      <td>https://www.science.org/doi/10.1126/science.11...</td>\n",
       "      <td>Just a moment... www.science.org Checking if t...</td>\n",
       "      <td>Social Science</td>\n",
       "    </tr>\n",
       "    <tr>\n",
       "      <th>3</th>\n",
       "      <td>https://www.aclu.org/careers/apply/?job=630743...</td>\n",
       "      <td>Careers at ACLU | American Civil Liberties Uni...</td>\n",
       "      <td>Social Science</td>\n",
       "    </tr>\n",
       "    <tr>\n",
       "      <th>4</th>\n",
       "      <td>https://www.britannica.com/topic/social-science</td>\n",
       "      <td>social science | History, Disciplines, Future ...</td>\n",
       "      <td>Social Science</td>\n",
       "    </tr>\n",
       "  </tbody>\n",
       "</table>\n",
       "</div>"
      ],
      "text/plain": [
       "                                                 url  \\\n",
       "0  https://www.wada-ama.org/en/data-research/soci...   \n",
       "1              https://journals.sagepub.com/home/ssc   \n",
       "2  https://www.science.org/doi/10.1126/science.11...   \n",
       "3  https://www.aclu.org/careers/apply/?job=630743...   \n",
       "4    https://www.britannica.com/topic/social-science   \n",
       "\n",
       "                                                text           class  \n",
       "0  Social Science Research | World Anti-Doping Ag...  Social Science  \n",
       "1  Just a moment... journals.sagepub.com Checking...  Social Science  \n",
       "2  Just a moment... www.science.org Checking if t...  Social Science  \n",
       "3  Careers at ACLU | American Civil Liberties Uni...  Social Science  \n",
       "4  social science | History, Disciplines, Future ...  Social Science  "
      ]
     },
     "metadata": {},
     "output_type": "display_data"
    },
    {
     "name": "stdout",
     "output_type": "stream",
     "text": [
      "Dataframe : web-dev\n"
     ]
    },
    {
     "data": {
      "text/html": [
       "<div>\n",
       "<style scoped>\n",
       "    .dataframe tbody tr th:only-of-type {\n",
       "        vertical-align: middle;\n",
       "    }\n",
       "\n",
       "    .dataframe tbody tr th {\n",
       "        vertical-align: top;\n",
       "    }\n",
       "\n",
       "    .dataframe thead th {\n",
       "        text-align: right;\n",
       "    }\n",
       "</style>\n",
       "<table border=\"1\" class=\"dataframe\">\n",
       "  <thead>\n",
       "    <tr style=\"text-align: right;\">\n",
       "      <th></th>\n",
       "      <th>url</th>\n",
       "      <th>text</th>\n",
       "      <th>class</th>\n",
       "    </tr>\n",
       "  </thead>\n",
       "  <tbody>\n",
       "    <tr>\n",
       "      <th>0</th>\n",
       "      <td>https://developer.mozilla.org/</td>\n",
       "      <td>MDN Web Docs Skip to main content Skip to sear...</td>\n",
       "      <td>Web Development</td>\n",
       "    </tr>\n",
       "    <tr>\n",
       "      <th>1</th>\n",
       "      <td>https://www.freecodecamp.org/learn/responsive-...</td>\n",
       "      <td>freeCodeCamp is a donor-supported tax-exempt 5...</td>\n",
       "      <td>Web Development</td>\n",
       "    </tr>\n",
       "    <tr>\n",
       "      <th>2</th>\n",
       "      <td>https://developer.mozilla.org/en-US/docs/Learn</td>\n",
       "      <td>Learn web development | MDN Skip to main conte...</td>\n",
       "      <td>Web Development</td>\n",
       "    </tr>\n",
       "    <tr>\n",
       "      <th>3</th>\n",
       "      <td>https://www.coursera.org/specializations/web-d...</td>\n",
       "      <td>Web Design for Everybody: Basics of Web Develo...</td>\n",
       "      <td>Web Development</td>\n",
       "    </tr>\n",
       "    <tr>\n",
       "      <th>4</th>\n",
       "      <td>https://web.dev/</td>\n",
       "      <td>web.dev Skip to content Open menu Learn Measur...</td>\n",
       "      <td>Web Development</td>\n",
       "    </tr>\n",
       "  </tbody>\n",
       "</table>\n",
       "</div>"
      ],
      "text/plain": [
       "                                                 url  \\\n",
       "0                     https://developer.mozilla.org/   \n",
       "1  https://www.freecodecamp.org/learn/responsive-...   \n",
       "2     https://developer.mozilla.org/en-US/docs/Learn   \n",
       "3  https://www.coursera.org/specializations/web-d...   \n",
       "4                                   https://web.dev/   \n",
       "\n",
       "                                                text            class  \n",
       "0  MDN Web Docs Skip to main content Skip to sear...  Web Development  \n",
       "1  freeCodeCamp is a donor-supported tax-exempt 5...  Web Development  \n",
       "2  Learn web development | MDN Skip to main conte...  Web Development  \n",
       "3  Web Design for Everybody: Basics of Web Develo...  Web Development  \n",
       "4  web.dev Skip to content Open menu Learn Measur...  Web Development  "
      ]
     },
     "metadata": {},
     "output_type": "display_data"
    },
    {
     "name": "stdout",
     "output_type": "stream",
     "text": [
      "Dataframe : management\n"
     ]
    },
    {
     "data": {
      "text/html": [
       "<div>\n",
       "<style scoped>\n",
       "    .dataframe tbody tr th:only-of-type {\n",
       "        vertical-align: middle;\n",
       "    }\n",
       "\n",
       "    .dataframe tbody tr th {\n",
       "        vertical-align: top;\n",
       "    }\n",
       "\n",
       "    .dataframe thead th {\n",
       "        text-align: right;\n",
       "    }\n",
       "</style>\n",
       "<table border=\"1\" class=\"dataframe\">\n",
       "  <thead>\n",
       "    <tr style=\"text-align: right;\">\n",
       "      <th></th>\n",
       "      <th>url</th>\n",
       "      <th>text</th>\n",
       "      <th>class</th>\n",
       "    </tr>\n",
       "  </thead>\n",
       "  <tbody>\n",
       "    <tr>\n",
       "      <th>0</th>\n",
       "      <td>https://www.pmi.org/</td>\n",
       "      <td>Just a moment... www.pmi.org Checking if the s...</td>\n",
       "      <td>Management</td>\n",
       "    </tr>\n",
       "    <tr>\n",
       "      <th>1</th>\n",
       "      <td>https://thunderbird.asu.edu/</td>\n",
       "      <td>Thunderbird School of Global Management Global...</td>\n",
       "      <td>Management</td>\n",
       "    </tr>\n",
       "    <tr>\n",
       "      <th>2</th>\n",
       "      <td>https://hbr.org/</td>\n",
       "      <td>Harvard Business Review - Ideas and Advice for...</td>\n",
       "      <td>Management</td>\n",
       "    </tr>\n",
       "    <tr>\n",
       "      <th>3</th>\n",
       "      <td>https://monday.com/blog/project-management/pro...</td>\n",
       "      <td>What is Process Management? | monday.com Blog ...</td>\n",
       "      <td>Management</td>\n",
       "    </tr>\n",
       "    <tr>\n",
       "      <th>4</th>\n",
       "      <td>https://www.netsuite.com/portal/home.shtml</td>\n",
       "      <td>Business Software, Business Management Softwar...</td>\n",
       "      <td>Management</td>\n",
       "    </tr>\n",
       "  </tbody>\n",
       "</table>\n",
       "</div>"
      ],
      "text/plain": [
       "                                                 url  \\\n",
       "0                               https://www.pmi.org/   \n",
       "1                       https://thunderbird.asu.edu/   \n",
       "2                                   https://hbr.org/   \n",
       "3  https://monday.com/blog/project-management/pro...   \n",
       "4         https://www.netsuite.com/portal/home.shtml   \n",
       "\n",
       "                                                text       class  \n",
       "0  Just a moment... www.pmi.org Checking if the s...  Management  \n",
       "1  Thunderbird School of Global Management Global...  Management  \n",
       "2  Harvard Business Review - Ideas and Advice for...  Management  \n",
       "3  What is Process Management? | monday.com Blog ...  Management  \n",
       "4  Business Software, Business Management Softwar...  Management  "
      ]
     },
     "metadata": {},
     "output_type": "display_data"
    }
   ],
   "source": [
    "data_frames = []\n",
    "keys = key_words.keys()\n",
    "to_drop = [\"index\", \"Unnamed: 0\"]\n",
    "\n",
    "# get the dataframes \n",
    "for name in keys:\n",
    "    text_path = \"data/text-data/\"+ name +\".csv\"\n",
    "    frame = pd.read_csv(text_path)\n",
    "    frame = frame.reset_index()\n",
    "    frame = frame.drop(to_drop, axis = 1)\n",
    "    print(\"Dataframe :\",name)\n",
    "    display(frame.head(n = 5))\n",
    "    data_frames.append(frame)\n",
    "    \n",
    "final_dataframe = pd.DataFrame(columns= [\"url\", \"text\", \"class\"])\n",
    "final_df = pd.concat(data_frames)"
   ]
  },
  {
   "cell_type": "code",
   "execution_count": 100,
   "id": "7d4ff83f",
   "metadata": {
    "ExecuteTime": {
     "end_time": "2022-09-16T15:53:43.250371Z",
     "start_time": "2022-09-16T15:53:43.216874Z"
    }
   },
   "outputs": [
    {
     "data": {
      "text/html": [
       "<div>\n",
       "<style scoped>\n",
       "    .dataframe tbody tr th:only-of-type {\n",
       "        vertical-align: middle;\n",
       "    }\n",
       "\n",
       "    .dataframe tbody tr th {\n",
       "        vertical-align: top;\n",
       "    }\n",
       "\n",
       "    .dataframe thead th {\n",
       "        text-align: right;\n",
       "    }\n",
       "</style>\n",
       "<table border=\"1\" class=\"dataframe\">\n",
       "  <thead>\n",
       "    <tr style=\"text-align: right;\">\n",
       "      <th></th>\n",
       "      <th>url</th>\n",
       "      <th>text</th>\n",
       "      <th>class</th>\n",
       "    </tr>\n",
       "  </thead>\n",
       "  <tbody>\n",
       "    <tr>\n",
       "      <th>0</th>\n",
       "      <td>https://www.geeksforgeeks.org/machine-learning/</td>\n",
       "      <td>Machine Learning - GeeksforGeeks Skip to conte...</td>\n",
       "      <td>Machine Learning</td>\n",
       "    </tr>\n",
       "    <tr>\n",
       "      <th>1</th>\n",
       "      <td>https://machinelearningmastery.com/start-here/</td>\n",
       "      <td>Just a moment... machinelearningmastery.com Ch...</td>\n",
       "      <td>Machine Learning</td>\n",
       "    </tr>\n",
       "    <tr>\n",
       "      <th>2</th>\n",
       "      <td>https://www.techtarget.com/searchenterpriseai/...</td>\n",
       "      <td>What Is Machine Learning and Why Is It Importa...</td>\n",
       "      <td>Machine Learning</td>\n",
       "    </tr>\n",
       "    <tr>\n",
       "      <th>3</th>\n",
       "      <td>https://azure.microsoft.com/en-us/services/mac...</td>\n",
       "      <td>Azure Machine Learning - ML as a Service | Mic...</td>\n",
       "      <td>Machine Learning</td>\n",
       "    </tr>\n",
       "    <tr>\n",
       "      <th>4</th>\n",
       "      <td>https://ai.google/education/</td>\n",
       "      <td>Education – Google AI AI AI About Responsibili...</td>\n",
       "      <td>Machine Learning</td>\n",
       "    </tr>\n",
       "    <tr>\n",
       "      <th>...</th>\n",
       "      <td>...</td>\n",
       "      <td>...</td>\n",
       "      <td>...</td>\n",
       "    </tr>\n",
       "    <tr>\n",
       "      <th>2028</th>\n",
       "      <td>https://nodejs.org/api/process.html</td>\n",
       "      <td>Process | Node.js v18.9.0 Documentation Node.j...</td>\n",
       "      <td>Management</td>\n",
       "    </tr>\n",
       "    <tr>\n",
       "      <th>2029</th>\n",
       "      <td>https://www.dictionary.com/browse/international</td>\n",
       "      <td>International Definition &amp; Meaning | Dictionar...</td>\n",
       "      <td>Management</td>\n",
       "    </tr>\n",
       "    <tr>\n",
       "      <th>2030</th>\n",
       "      <td>https://www.imf.org/en/Home</td>\n",
       "      <td>International Monetary Fund - Homepage About F...</td>\n",
       "      <td>Management</td>\n",
       "    </tr>\n",
       "    <tr>\n",
       "      <th>2031</th>\n",
       "      <td>https://www.processmodel.com/blog/what-is-a-pr...</td>\n",
       "      <td>What is a Process? • ProcessModel Skip to cont...</td>\n",
       "      <td>Management</td>\n",
       "    </tr>\n",
       "    <tr>\n",
       "      <th>2032</th>\n",
       "      <td>https://careers.jpmorgan.com/us/en/how-we-hire</td>\n",
       "      <td>How We Hire | Jobs &amp; Internships | JPMorgan Ch...</td>\n",
       "      <td>Management</td>\n",
       "    </tr>\n",
       "  </tbody>\n",
       "</table>\n",
       "<p>2033 rows × 3 columns</p>\n",
       "</div>"
      ],
      "text/plain": [
       "                                                    url  \\\n",
       "0       https://www.geeksforgeeks.org/machine-learning/   \n",
       "1        https://machinelearningmastery.com/start-here/   \n",
       "2     https://www.techtarget.com/searchenterpriseai/...   \n",
       "3     https://azure.microsoft.com/en-us/services/mac...   \n",
       "4                          https://ai.google/education/   \n",
       "...                                                 ...   \n",
       "2028                https://nodejs.org/api/process.html   \n",
       "2029    https://www.dictionary.com/browse/international   \n",
       "2030                        https://www.imf.org/en/Home   \n",
       "2031  https://www.processmodel.com/blog/what-is-a-pr...   \n",
       "2032     https://careers.jpmorgan.com/us/en/how-we-hire   \n",
       "\n",
       "                                                   text              class  \n",
       "0     Machine Learning - GeeksforGeeks Skip to conte...  Machine Learning   \n",
       "1     Just a moment... machinelearningmastery.com Ch...  Machine Learning   \n",
       "2     What Is Machine Learning and Why Is It Importa...  Machine Learning   \n",
       "3     Azure Machine Learning - ML as a Service | Mic...  Machine Learning   \n",
       "4     Education – Google AI AI AI About Responsibili...  Machine Learning   \n",
       "...                                                 ...                ...  \n",
       "2028  Process | Node.js v18.9.0 Documentation Node.j...         Management  \n",
       "2029  International Definition & Meaning | Dictionar...         Management  \n",
       "2030  International Monetary Fund - Homepage About F...         Management  \n",
       "2031  What is a Process? • ProcessModel Skip to cont...         Management  \n",
       "2032  How We Hire | Jobs & Internships | JPMorgan Ch...         Management  \n",
       "\n",
       "[2033 rows x 3 columns]"
      ]
     },
     "execution_count": 100,
     "metadata": {},
     "output_type": "execute_result"
    }
   ],
   "source": [
    "try:\n",
    "    final_df.reset_index(inplace = True)\n",
    "    final_df = final_df.drop([\"index\"], axis = 1)\n",
    "except:\n",
    "    pass \n",
    "\n",
    "final_df"
   ]
  },
  {
   "cell_type": "code",
   "execution_count": 101,
   "id": "6f00c694",
   "metadata": {
    "ExecuteTime": {
     "end_time": "2022-09-16T15:53:48.297776Z",
     "start_time": "2022-09-16T15:53:47.152022Z"
    }
   },
   "outputs": [],
   "source": [
    "final_df.to_csv(\"data/final_dataframe.csv\")"
   ]
  },
  {
   "cell_type": "markdown",
   "id": "6f5d9270",
   "metadata": {},
   "source": [
    "### Class Distribution"
   ]
  },
  {
   "cell_type": "code",
   "execution_count": 102,
   "id": "f056c403",
   "metadata": {
    "ExecuteTime": {
     "end_time": "2022-09-16T15:57:50.059168Z",
     "start_time": "2022-09-16T15:57:49.687786Z"
    }
   },
   "outputs": [
    {
     "data": {
      "text/plain": [
       "<BarContainer object of 5 artists>"
      ]
     },
     "execution_count": 102,
     "metadata": {},
     "output_type": "execute_result"
    },
    {
     "data": {
      "image/png": "[encoded data removed]",
      "text/plain": [
       "<Figure size 432x288 with 1 Axes>"
      ]
     },
     "metadata": {
      "needs_background": "light"
     },
     "output_type": "display_data"
    }
   ],
   "source": [
    "plt.title(\"Class Distribution for the URLs\")\n",
    "plt.barh(width = final_df[\"class\"].value_counts().values, height = 0.5, y = final_df[\"class\"].value_counts().keys())"
   ]
  },
  {
   "cell_type": "code",
   "execution_count": null,
   "id": "81d5318d",
   "metadata": {
    "ExecuteTime": {
     "end_time": "2022-09-13T08:53:23.429461Z",
     "start_time": "2022-09-13T08:53:22.662755Z"
    }
   },
   "outputs": [],
   "source": [
    "init_data = pd.read_csv('data/website_classification.csv', low_memory=False)\n",
    "init_data.drop([\"Unnamed: 0\"], axis=1, inplace=True)"
   ]
  },
  {
   "cell_type": "code",
   "execution_count": null,
   "id": "e1fef74d",
   "metadata": {
    "ExecuteTime": {
     "end_time": "2022-09-13T08:57:35.939065Z",
     "start_time": "2022-09-13T08:57:35.928665Z"
    }
   },
   "outputs": [],
   "source": [
    "init_data"
   ]
  },
  {
   "cell_type": "markdown",
   "id": "98bc96c8",
   "metadata": {
    "heading_collapsed": true
   },
   "source": [
    "### Pre - Processing \n",
    "-  Note : model does not have any kind of relation with the url\n",
    "- It only wants the textual information for the prediction\n",
    "- We only need the associations \n"
   ]
  },
  {
   "cell_type": "code",
   "execution_count": null,
   "id": "33bf45da",
   "metadata": {
    "ExecuteTime": {
     "end_time": "2022-09-13T08:58:30.605586Z",
     "start_time": "2022-09-13T08:58:30.596664Z"
    },
    "hidden": true
   },
   "outputs": [],
   "source": [
    "data = init_data.drop(axis=1, labels=[\"website_url\"])\n",
    "# no req of url\n",
    "data.head()"
   ]
  },
  {
   "cell_type": "code",
   "execution_count": 212,
   "id": "54f6e207",
   "metadata": {
    "ExecuteTime": {
     "end_time": "2022-09-13T17:24:18.341431Z",
     "start_time": "2022-09-13T17:24:18.290324Z"
    },
    "hidden": true
   },
   "outputs": [],
   "source": []
  },
  {
   "cell_type": "code",
   "execution_count": null,
   "id": "5ade6e59",
   "metadata": {
    "ExecuteTime": {
     "end_time": "2022-09-13T09:01:08.683281Z",
     "start_time": "2022-09-13T09:01:08.678980Z"
    },
    "hidden": true
   },
   "outputs": [],
   "source": [
    "# example text\n",
    "data[\"cleaned_website_text\"][1121]"
   ]
  },
  {
   "cell_type": "code",
   "execution_count": null,
   "id": "70e038cc",
   "metadata": {
    "hidden": true
   },
   "outputs": [],
   "source": [
    "# now we remove the stop words, remove abbreviations and lemmatize the text\n",
    "# to do"
   ]
  },
  {
   "cell_type": "code",
   "execution_count": null,
   "id": "002541bc",
   "metadata": {
    "hidden": true
   },
   "outputs": [],
   "source": [
    "# after the processing, we will vectorize the text corpus using tfidf and encode the class labels with ints"
   ]
  },
  {
   "cell_type": "code",
   "execution_count": null,
   "id": "be233b0a",
   "metadata": {
    "hidden": true
   },
   "outputs": [],
   "source": [
    "# then train a model"
   ]
  },
  {
   "cell_type": "code",
   "execution_count": null,
   "id": "1180e574",
   "metadata": {
    "hidden": true
   },
   "outputs": [],
   "source": [
    "# to do..."
   ]
  },
  {
   "cell_type": "markdown",
   "id": "7aded80e",
   "metadata": {
    "heading_collapsed": true
   },
   "source": [
    "### Testing \n",
    "- Take a url, and get its html page \n",
    "- Parse the page and extract the text \n",
    "- Put the text through the data processing pipeline and transform according to the model \n",
    "- Now predict the top 5 classes for the url text and return the top one "
   ]
  },
  {
   "cell_type": "code",
   "execution_count": null,
   "id": "302862c9",
   "metadata": {
    "hidden": true
   },
   "outputs": [],
   "source": [
    "# pass through pipeline and then predict the class label"
   ]
  }
 ],
 "metadata": {
  "kernelspec": {
   "display_name": "Python 3",
   "language": "python",
   "name": "python3"
  },
  "language_info": {
   "codemirror_mode": {
    "name": "ipython",
    "version": 3
   },
   "file_extension": ".py",
   "mimetype": "text/x-python",
   "name": "python",
   "nbconvert_exporter": "python",
   "pygments_lexer": "ipython3",
   "version": "3.8.10"
  }
 },
 "nbformat": 4,
 "nbformat_minor": 5
}
